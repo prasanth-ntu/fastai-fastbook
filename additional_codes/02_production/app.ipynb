{
 "cells": [
  {
   "cell_type": "code",
   "execution_count": 1,
   "id": "e1c01303",
   "metadata": {
    "ExecuteTime": {
     "end_time": "2023-06-05T00:11:10.284089Z",
     "start_time": "2023-06-05T00:11:09.400201Z"
    },
    "scrolled": true
   },
   "outputs": [
    {
     "name": "stdout",
     "output_type": "stream",
     "text": [
      "Enabling: voila\n",
      "- Writing config: /Users/prasanth.thangavel/.pyenv/versions/3.9.4/etc/jupyter\n",
      "    - Validating...\n",
      "      voila 0.4.0 \u001b[32mOK\u001b[0m\n"
     ]
    }
   ],
   "source": [
    "### Install voila\n",
    "# !pip install voila\n",
    "### Connect voila to existing notebook\n",
    "!jupyter serverextension enable --sys-prefix voila"
   ]
  },
  {
   "cell_type": "markdown",
   "id": "b378eebd",
   "metadata": {},
   "source": [
    "# imports"
   ]
  },
  {
   "cell_type": "code",
   "execution_count": 29,
   "id": "250d885e",
   "metadata": {
    "ExecuteTime": {
     "end_time": "2023-06-05T00:22:22.586923Z",
     "start_time": "2023-06-05T00:22:22.578295Z"
    }
   },
   "outputs": [],
   "source": [
    "import fastbook\n",
    "fastbook.setup_book()\n",
    "\n",
    "from fastbook import *\n",
    "from fastai.vision.widgets import *\n",
    "\n",
    "from ipywidgets import *"
   ]
  },
  {
   "cell_type": "markdown",
   "id": "5c528e19",
   "metadata": {},
   "source": [
    "# Loading the saved model"
   ]
  },
  {
   "cell_type": "code",
   "execution_count": 30,
   "id": "1cdc8dd3",
   "metadata": {
    "ExecuteTime": {
     "end_time": "2023-06-05T00:22:24.414131Z",
     "start_time": "2023-06-05T00:22:24.406888Z"
    }
   },
   "outputs": [
    {
     "data": {
      "text/plain": [
       "(#2) [Path('../../export.pkl'),Path('../../02_production_bear_classifier.pkl')]"
      ]
     },
     "execution_count": 30,
     "metadata": {},
     "output_type": "execute_result"
    }
   ],
   "source": [
    "path = Path('../../')\n",
    "path.ls(file_exts='.pkl')"
   ]
  },
  {
   "cell_type": "code",
   "execution_count": 31,
   "id": "8352b0a9",
   "metadata": {
    "ExecuteTime": {
     "end_time": "2023-06-05T00:22:24.570147Z",
     "start_time": "2023-06-05T00:22:24.537514Z"
    }
   },
   "outputs": [],
   "source": [
    "learn_inf = load_learner(path/'02_production_bear_classifier.pkl')"
   ]
  },
  {
   "cell_type": "code",
   "execution_count": 32,
   "id": "b821e5a4",
   "metadata": {
    "ExecuteTime": {
     "end_time": "2023-06-05T00:22:24.743514Z",
     "start_time": "2023-06-05T00:22:24.669560Z"
    }
   },
   "outputs": [
    {
     "data": {
      "text/html": [
       "\n",
       "<style>\n",
       "    /* Turns off some styling */\n",
       "    progress {\n",
       "        /* gets rid of default border in Firefox and Opera. */\n",
       "        border: none;\n",
       "        /* Needs to be in here for Safari polyfill so background images work as expected. */\n",
       "        background-size: auto;\n",
       "    }\n",
       "    progress:not([value]), progress:not([value])::-webkit-progress-bar {\n",
       "        background: repeating-linear-gradient(45deg, #7e7e7e, #7e7e7e 10px, #5c5c5c 10px, #5c5c5c 20px);\n",
       "    }\n",
       "    .progress-bar-interrupted, .progress-bar-interrupted::-webkit-progress-bar {\n",
       "        background: #F44336;\n",
       "    }\n",
       "</style>\n"
      ],
      "text/plain": [
       "<IPython.core.display.HTML object>"
      ]
     },
     "metadata": {},
     "output_type": "display_data"
    },
    {
     "data": {
      "text/html": [],
      "text/plain": [
       "<IPython.core.display.HTML object>"
      ]
     },
     "metadata": {},
     "output_type": "display_data"
    },
    {
     "data": {
      "text/plain": [
       "('grizzly', tensor(1), tensor([2.7190e-06, 1.0000e+00, 7.8789e-07]))"
      ]
     },
     "execution_count": 32,
     "metadata": {},
     "output_type": "execute_result"
    }
   ],
   "source": [
    "learn_inf.predict(path/'images/grizzly.jpg')"
   ]
  },
  {
   "cell_type": "code",
   "execution_count": 33,
   "id": "8dd8fbca",
   "metadata": {
    "ExecuteTime": {
     "end_time": "2023-06-05T00:22:24.802724Z",
     "start_time": "2023-06-05T00:22:24.800082Z"
    }
   },
   "outputs": [
    {
     "data": {
      "text/plain": [
       "['black', 'grizzly', 'teddy']"
      ]
     },
     "execution_count": 33,
     "metadata": {},
     "output_type": "execute_result"
    }
   ],
   "source": [
    "learn_inf.dls.vocab"
   ]
  },
  {
   "cell_type": "code",
   "execution_count": 34,
   "id": "fbe85028",
   "metadata": {
    "ExecuteTime": {
     "end_time": "2023-06-05T00:22:24.940542Z",
     "start_time": "2023-06-05T00:22:24.937110Z"
    }
   },
   "outputs": [],
   "source": [
    "#hide_output\n",
    "btn_upload = widgets.FileUpload()\n",
    "# btn_upload"
   ]
  },
  {
   "cell_type": "code",
   "execution_count": 35,
   "id": "df7e78e4",
   "metadata": {
    "ExecuteTime": {
     "end_time": "2023-06-05T00:22:25.077661Z",
     "start_time": "2023-06-05T00:22:25.074048Z"
    }
   },
   "outputs": [],
   "source": [
    "# img = PILImage.create(btn_upload.data[-1])"
   ]
  },
  {
   "cell_type": "code",
   "execution_count": 36,
   "id": "f1a1e7e3",
   "metadata": {
    "ExecuteTime": {
     "end_time": "2023-06-05T00:22:25.262021Z",
     "start_time": "2023-06-05T00:22:25.259941Z"
    }
   },
   "outputs": [],
   "source": [
    "# pred,pred_idx,probs = learn_inf.predict(img)"
   ]
  },
  {
   "cell_type": "code",
   "execution_count": 37,
   "id": "6d6cdf50",
   "metadata": {
    "ExecuteTime": {
     "end_time": "2023-06-05T00:22:25.410369Z",
     "start_time": "2023-06-05T00:22:25.405194Z"
    }
   },
   "outputs": [],
   "source": [
    "#hide_output\n",
    "lbl_pred = widgets.Label()\n",
    "# lbl_pred.value = f'Prediction: {pred}; Probability: {probs[pred_idx]:.04f}'\n",
    "# lbl_pred"
   ]
  },
  {
   "cell_type": "code",
   "execution_count": 38,
   "id": "578d3670",
   "metadata": {
    "ExecuteTime": {
     "end_time": "2023-06-05T00:22:25.519761Z",
     "start_time": "2023-06-05T00:22:25.515943Z"
    }
   },
   "outputs": [],
   "source": [
    "#hide_output\n",
    "btn_run = widgets.Button(description='Classify')\n",
    "# btn_run"
   ]
  },
  {
   "cell_type": "code",
   "execution_count": 39,
   "id": "af725265",
   "metadata": {
    "ExecuteTime": {
     "end_time": "2023-06-05T00:22:25.664622Z",
     "start_time": "2023-06-05T00:22:25.660421Z"
    }
   },
   "outputs": [],
   "source": [
    "#hide_output\n",
    "out_pl = widgets.Output()\n",
    "# out_pl.clear_output()\n",
    "# with out_pl: display(img.to_thumb(128,128))\n",
    "# out_pl"
   ]
  },
  {
   "cell_type": "code",
   "execution_count": 40,
   "id": "56d241f9",
   "metadata": {
    "ExecuteTime": {
     "end_time": "2023-06-05T00:22:25.807195Z",
     "start_time": "2023-06-05T00:22:25.803444Z"
    }
   },
   "outputs": [],
   "source": [
    "def on_click_classify(change):\n",
    "    img = PILImage.create(btn_upload.data[-1])\n",
    "    out_pl.clear_output()\n",
    "    with out_pl: display(img.to_thumb(128,128))\n",
    "    pred,pred_idx,probs = learn_inf.predict(img)\n",
    "    lbl_pred.value = f'Prediction: {pred}; Probability: {probs[pred_idx]:.04f}'\n",
    "\n",
    "btn_run.on_click(on_click_classify)"
   ]
  },
  {
   "cell_type": "code",
   "execution_count": 41,
   "id": "583cc950",
   "metadata": {
    "ExecuteTime": {
     "end_time": "2023-06-05T00:22:25.964480Z",
     "start_time": "2023-06-05T00:22:25.957828Z"
    }
   },
   "outputs": [
    {
     "data": {
      "application/vnd.jupyter.widget-view+json": {
       "model_id": "d6ea66f6d0964898bb8daaaaac98b145",
       "version_major": 2,
       "version_minor": 0
      },
      "text/plain": [
       "VBox(children=(Label(value='Select your bear!'), FileUpload(value={}, description='Upload'), Button(descriptio…"
      ]
     },
     "metadata": {},
     "output_type": "display_data"
    },
    {
     "data": {
      "text/html": [
       "\n",
       "<style>\n",
       "    /* Turns off some styling */\n",
       "    progress {\n",
       "        /* gets rid of default border in Firefox and Opera. */\n",
       "        border: none;\n",
       "        /* Needs to be in here for Safari polyfill so background images work as expected. */\n",
       "        background-size: auto;\n",
       "    }\n",
       "    progress:not([value]), progress:not([value])::-webkit-progress-bar {\n",
       "        background: repeating-linear-gradient(45deg, #7e7e7e, #7e7e7e 10px, #5c5c5c 10px, #5c5c5c 20px);\n",
       "    }\n",
       "    .progress-bar-interrupted, .progress-bar-interrupted::-webkit-progress-bar {\n",
       "        background: #F44336;\n",
       "    }\n",
       "</style>\n"
      ],
      "text/plain": [
       "<IPython.core.display.HTML object>"
      ]
     },
     "metadata": {},
     "output_type": "display_data"
    },
    {
     "data": {
      "text/html": [],
      "text/plain": [
       "<IPython.core.display.HTML object>"
      ]
     },
     "metadata": {},
     "output_type": "display_data"
    }
   ],
   "source": [
    "#hide_output\n",
    "VBox([widgets.Label('Select your bear!'), \n",
    "      btn_upload, btn_run, out_pl, lbl_pred])"
   ]
  },
  {
   "cell_type": "markdown",
   "id": "263be4a2",
   "metadata": {},
   "source": [
    "# Voila issue and debugging resources"
   ]
  },
  {
   "cell_type": "markdown",
   "id": "2ac2e3ca",
   "metadata": {},
   "source": [
    "Currently, when running this command \n",
    "\n",
    "`voila app.ipynb --debug`\n",
    "\n",
    "Facing an error\n",
    "\n",
    "```[Open Browser Console for more detailed log - Double click to close this message]\n",
    "Failed to load model class 'VBoxModel' from module '@jupyter-widgets/controls'\n",
    "Error: Module @jupyter-widgets/controls, version ^1.5.0 is not registered, however,         2.0.0 is\n",
    "    at tn.loadClass (http://localhost:8866/voila/templates/lab/static/voila.js?v=8db1cadbfba43a6dfc2d64128318e696bcb26b1783db1b991faf7404d438cd53200b6c434c4897064c090b68aa1151cd96c6dab50c3e138553365e6b30889172:458:117212)\n",
    "    at tn.loadClass (http://localhost:8866/voila/templates/lab/static/voila.js?v=8db1cadbfba43a6dfc2d64128318e696bcb26b1783db1b991faf7404d438cd53200b6c434c4897064c090b68aa1151cd96c6dab50c3e138553365e6b30889172:472:57590)\n",
    "    at tn.loadModelClass (http://localhost:8866/voila/templates/lab/static/voila.js?v=8db1cadbfba43a6dfc2d64128318e696bcb26b1783db1b991faf7404d438cd53200b6c434c4897064c090b68aa1151cd96c6dab50c3e138553365e6b30889172:458:114982)\n",
    "    at tn._make_model (http://localhost:8866/voila/templates/lab/static/voila.js?v=8db1cadbfba43a6dfc2d64128318e696bcb26b1783db1b991faf7404d438cd53200b6c434c4897064c090b68aa1151cd96c6dab50c3e138553365e6b30889172:458:111789)\n",
    "    at tn.new_model (http://localhost:8866/voila/templates/lab/static/voila.js?v=8db1cadbfba43a6dfc2d64128318e696bcb26b1783db1b991faf7404d438cd53200b6c434c4897064c090b68aa1151cd96c6dab50c3e138553365e6b30889172:458:109386)\n",
    "    at http://localhost:8866/voila/templates/lab/static/voila.js?v=8db1cadbfba43a6dfc2d64128318e696bcb26b1783db1b991faf7404d438cd53200b6c434c4897064c090b68aa1151cd96c6dab50c3e138553365e6b30889172:458:110660\n",
    "    at Array.map ()\n",
    "    at tn._loadFromKernel (http://localhost:8866/voila/templates/lab/static/voila.js?v=8db1cadbfba43a6dfc2d64128318e696bcb26b1783db1b991faf7404d438cd53200b6c434c4897064c090b68aa1151cd96c6dab50c3e138553365e6b30889172:458:110550)\n",
    "    at async tn.build_widgets (http://localhost:8866/voila/templates/lab/static/voila.js?v=8db1cadbfba43a6dfc2d64128318e696bcb26b1783db1b991faf7404d438cd53200b6c434c4897064c090b68aa1151cd96c6dab50c3e138553365e6b30889172:472:56804)\n",
    "    at async init (http://localhost:8866/voila/templates/lab/static/main.js?v=07cc494763c3dcb3b604da7aa291ed361b8b163d9cb33c4bc3a66304c18e1dc5bfcf8c6101b6b6426ab36762a01a8568e9f3bf0c7ba6588cd61eab538b95e34a:63:13)\n",
    "```"
   ]
  },
  {
   "cell_type": "markdown",
   "id": "0dd9ee97",
   "metadata": {
    "ExecuteTime": {
     "end_time": "2023-06-05T00:25:07.688818Z",
     "start_time": "2023-06-05T00:25:07.669581Z"
    }
   },
   "source": [
    "- https://forums.fast.ai/t/voila-does-not-work-for-me/67611/11\n",
    "- https://medium.com/unpackai/how-to-deploy-fast-ai-models-8704ea711ad2"
   ]
  },
  {
   "cell_type": "code",
   "execution_count": null,
   "id": "eb2fe4a4",
   "metadata": {},
   "outputs": [],
   "source": []
  }
 ],
 "metadata": {
  "kernelspec": {
   "display_name": "fastai_related",
   "language": "python",
   "name": "fastai_related"
  },
  "language_info": {
   "codemirror_mode": {
    "name": "ipython",
    "version": 3
   },
   "file_extension": ".py",
   "mimetype": "text/x-python",
   "name": "python",
   "nbconvert_exporter": "python",
   "pygments_lexer": "ipython3",
   "version": "3.10.5"
  },
  "toc": {
   "base_numbering": 1,
   "nav_menu": {},
   "number_sections": true,
   "sideBar": true,
   "skip_h1_title": false,
   "title_cell": "Table of Contents",
   "title_sidebar": "Contents",
   "toc_cell": false,
   "toc_position": {},
   "toc_section_display": true,
   "toc_window_display": false
  }
 },
 "nbformat": 4,
 "nbformat_minor": 5
}
